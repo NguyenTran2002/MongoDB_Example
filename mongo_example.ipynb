{
 "cells": [
  {
   "cell_type": "markdown",
   "metadata": {},
   "source": [
    "# Upload to MongoDB"
   ]
  },
  {
   "cell_type": "markdown",
   "metadata": {},
   "source": [
    "## Prerequisite\n",
    "- Make sure you have already set up a MongoDB database on mongodb.com.\n",
    "- You need to get the following informations and save them into a .env files: username, password, and server_address."
   ]
  },
  {
   "cell_type": "markdown",
   "metadata": {},
   "source": [
    "### Example .env File\n",
    "username = wow680\n",
    "\n",
    "password = rubbiSh\n",
    "\n",
    "server_address = @niceMongoCluster.rrr.mongodb.net/"
   ]
  },
  {
   "cell_type": "code",
   "execution_count": 1,
   "metadata": {},
   "outputs": [],
   "source": [
    "import random\n",
    "import string\n",
    "from pymongo.mongo_client import MongoClient\n",
    "from pymongo.server_api import ServerApi\n",
    "from pymongo.collation import Collation\n",
    "from dotenv import load_dotenv\n",
    "from datetime import datetime\n",
    "import os\n",
    "import json\n",
    "import re"
   ]
  },
  {
   "cell_type": "code",
   "execution_count": 2,
   "metadata": {},
   "outputs": [],
   "source": [
    "# CAUTION:\n",
    "#   DO NOT MANUALLY USE THE FOLLOWING FUNCTIONS.\n",
    "#   THEY ARE MEANT TO BE CALLED BY OTHER FUNCTIONS.\n",
    "#   THAT WOULD APPROPRIATELY CLOSE THE CONNECTION USE.\n",
    "#   SEE upload_to_mongo() FOR EXAMPLE.\n",
    "\n",
    "def load_user_password():\n",
    "    \"\"\"\n",
    "    Load the username and password from the .env file\n",
    "    \"\"\"\n",
    "    if not os.path.isfile('.env'):\n",
    "        print(\"\\n\\nError: No .env file found in the repository.\\n\\n\")\n",
    "        return None, None\n",
    "\n",
    "    load_dotenv()\n",
    "    return os.getenv('username'), os.getenv('password'), os.getenv('server_address')\n",
    "\n",
    "def connect_to_mongo(username = None, password = None, server_address = None, debug = False):\n",
    "    \"\"\"\n",
    "    DESCRIPTION:\n",
    "        Return the MongoClient object\n",
    "        Will load username, password, and server_address from the .env file\n",
    "            if not provided as arguments.\n",
    "\n",
    "    INPUT SIGNATURE:\n",
    "        username: MongoDB username (string)\n",
    "        password: MongoDB password (string)\n",
    "        server_address: MongoDB server address (string)\n",
    "\n",
    "    OUTPUT SIGNATURE:\n",
    "        client: MongoClient object\n",
    "\n",
    "    CAUTION:\n",
    "        Manually setting username, password, and server_address\n",
    "        when calling this function is highly discouraged. They are intended\n",
    "        only to be used for quick connection to different MongoDB deployments\n",
    "        when testing the application. The recommended way is to modify them\n",
    "        from the .env file that should be in the same directory as this file.\n",
    "    \"\"\"\n",
    "\n",
    "    if (username is None) or (password is None) or (server_address is None):\n",
    "        username, password, server_address = load_user_password()\n",
    "        uri = \"mongodb+srv://\" + username + \":\" + password + server_address\n",
    "\n",
    "    uri = \"mongodb+srv://\" + username + \":\" + password + server_address\n",
    "    client = MongoClient(uri, server_api=ServerApi('1'))\n",
    "\n",
    "    # Send a ping to confirm a successful connection\n",
    "    try:\n",
    "        client.admin.command('ping')\n",
    "        if debug:\n",
    "            print(\"Pinged your deployment. You successfully connected to MongoDB!\")\n",
    "    except Exception as e:\n",
    "        print(\"UNABLE TO CONNECT TO DATABASE\")\n",
    "\n",
    "    return client"
   ]
  },
  {
   "cell_type": "code",
   "execution_count": 3,
   "metadata": {},
   "outputs": [],
   "source": [
    "def upload_to_mongoDB(database_name, collection_name, document):\n",
    "    \"\"\"\n",
    "    DESCRIPTION:\n",
    "        Upload a document to the MongoDB collection.\n",
    "    \n",
    "    INPUT SIGNATURE:\n",
    "        database_name: MongoDB database name (string)\n",
    "        collection_name: MongoDB collection name (string)\n",
    "        document: the document to be uploaded (dictionary)\n",
    "\n",
    "    OUTPUT SIGNATURE:\n",
    "        The function will prints out debug messages if the upload is successful or not.\n",
    "            This message is generated through the upload_to_mongoDB_helper function.\n",
    "    \"\"\"\n",
    "\n",
    "    client = connect_to_mongo()\n",
    "    db = client[database_name]\n",
    "    collection = db[collection_name]\n",
    "\n",
    "    # loop through every field of the document\n",
    "    # if there is a field that is an empty string, replace it with None\n",
    "    for key, value in document.items():\n",
    "        if value == \"\":\n",
    "            document[key] = None\n",
    "\n",
    "    if collection_name in db.list_collection_names(): # if collection exists\n",
    "        upload_to_mongoDB_helper(client, collection, document)\n",
    "        \n",
    "    else:\n",
    "        upload_to_mongoDB_helper(client, collection, document)\n",
    "\n",
    "def upload_to_mongoDB_helper(client_object, collection_object, document):\n",
    "    \"\"\"\n",
    "    CAUTION:\n",
    "        DO NOT USE THIS FUNCTION DIRECTLY. USE upload_to_mongoDB INSTEAD.\n",
    "        \n",
    "    DESCRIPTION:\n",
    "        Upload a document to the MongoDB collection.\n",
    "    \"\"\"\n",
    "\n",
    "    try:\n",
    "        # Upload the document to the MongoDB collection\n",
    "        result = collection_object.insert_one(document)\n",
    "\n",
    "        # Print the inserted document's ID\n",
    "        print(f\"Document uploaded successfully. ID: {result.inserted_id}\")\n",
    "        client_object.close()\n",
    "        return True\n",
    "\n",
    "    except Exception as e:\n",
    "        print(f\"Error uploading document: {e}\")\n",
    "        client_object.close()\n",
    "        return False"
   ]
  },
  {
   "cell_type": "code",
   "execution_count": 10,
   "metadata": {},
   "outputs": [],
   "source": [
    "# config destination to upload\n",
    "database_name = \"initial_testing\"\n",
    "collection_name = \"dummy_collection_1\"\n",
    "document = {\n",
    "    'name' : 'Ann',\n",
    "    'state' : 'NY'\n",
    "}"
   ]
  },
  {
   "cell_type": "code",
   "execution_count": 11,
   "metadata": {},
   "outputs": [
    {
     "name": "stdout",
     "output_type": "stream",
     "text": [
      "Document uploaded successfully. ID: 66713414d6ab98cc43b821dd\n"
     ]
    }
   ],
   "source": [
    "# upload a document to the database\n",
    "# if the collection or database does not exist, it will be created\n",
    "upload_to_mongoDB(database_name, collection_name, document)"
   ]
  }
 ],
 "metadata": {
  "kernelspec": {
   "display_name": "Python 3",
   "language": "python",
   "name": "python3"
  },
  "language_info": {
   "codemirror_mode": {
    "name": "ipython",
    "version": 3
   },
   "file_extension": ".py",
   "mimetype": "text/x-python",
   "name": "python",
   "nbconvert_exporter": "python",
   "pygments_lexer": "ipython3",
   "version": "3.11.4"
  }
 },
 "nbformat": 4,
 "nbformat_minor": 2
}
