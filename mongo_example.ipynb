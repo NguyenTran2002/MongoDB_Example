{
 "cells": [
  {
   "cell_type": "markdown",
   "metadata": {},
   "source": [
    "# Establish Connection"
   ]
  },
  {
   "cell_type": "markdown",
   "metadata": {},
   "source": [
    "## Prerequisite\n",
    "- Make sure you have already set up a MongoDB database on mongodb.com.\n",
    "- You need to get the following informations and save them into a .env files: username, password, and server_address."
   ]
  },
  {
   "cell_type": "markdown",
   "metadata": {},
   "source": [
    "### Example .env File\n",
    "username = wow680\n",
    "password = rubbiSh\n",
    "server_address = @niceMongoCluster.rrr.mongodb.net/"
   ]
  },
  {
   "cell_type": "code",
   "execution_count": null,
   "metadata": {},
   "outputs": [],
   "source": []
  }
 ],
 "metadata": {
  "language_info": {
   "name": "python"
  }
 },
 "nbformat": 4,
 "nbformat_minor": 2
}
