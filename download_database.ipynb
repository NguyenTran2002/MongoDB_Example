{
 "cells": [
  {
   "cell_type": "markdown",
   "metadata": {},
   "source": [
    "# Download Database\n",
    "This notebook will quickly download any MongoDB collection.\n",
    "\n",
    "### CAUTION\n",
    "Make sure to run the notebook fully to ensure that the opened MongoDB connection is closed.\n",
    "Having too many opened connections slow down the performance of the database."
   ]
  },
  {
   "cell_type": "code",
   "execution_count": 1,
   "metadata": {},
   "outputs": [],
   "source": [
    "import pandas as pd\n",
    "from mongo_helper import *"
   ]
  },
  {
   "cell_type": "code",
   "execution_count": 2,
   "metadata": {},
   "outputs": [],
   "source": [
    "client = connect_to_mongo()\n",
    "output_csv_file_name = \"database_backup.csv\""
   ]
  },
  {
   "cell_type": "code",
   "execution_count": 3,
   "metadata": {},
   "outputs": [],
   "source": [
    "collection_to_download = \"dummy_collection_1\"\n",
    "container_database = \"initial_testing\" # the database that contains the collection"
   ]
  },
  {
   "cell_type": "code",
   "execution_count": 5,
   "metadata": {},
   "outputs": [
    {
     "name": "stdout",
     "output_type": "stream",
     "text": [
      "CSV file 'Database Backup/database_backup.csv' created successfully.\n"
     ]
    }
   ],
   "source": [
    "db = client[container_database]\n",
    "collection = db[collection_to_download]\n",
    "\n",
    "# Fetch all documents from the collection\n",
    "cursor = collection.find()\n",
    "\n",
    "# Convert MongoDB cursor to DataFrame\n",
    "df = pd.DataFrame(list(cursor))\n",
    "\n",
    "# Specify the CSV file path\n",
    "csv_file_path = \"Database Backup/\" + output_csv_file_name\n",
    "\n",
    "# Save DataFrame to CSV\n",
    "df.to_csv(csv_file_path, index=False)\n",
    "\n",
    "# Save an extra copy with \"copy\" in the file name\n",
    "copy_file_path = \"Database Backup/copy_of_\" + output_csv_file_name\n",
    "df.to_csv(copy_file_path, index=False)\n",
    "\n",
    "# Close MongoDB connection\n",
    "client.close()\n",
    "\n",
    "print(f\"CSV file '{csv_file_path}' created successfully.\")"
   ]
  }
 ],
 "metadata": {
  "kernelspec": {
   "display_name": "Python 3",
   "language": "python",
   "name": "python3"
  },
  "language_info": {
   "codemirror_mode": {
    "name": "ipython",
    "version": 3
   },
   "file_extension": ".py",
   "mimetype": "text/x-python",
   "name": "python",
   "nbconvert_exporter": "python",
   "pygments_lexer": "ipython3",
   "version": "3.11.4"
  }
 },
 "nbformat": 4,
 "nbformat_minor": 2
}
